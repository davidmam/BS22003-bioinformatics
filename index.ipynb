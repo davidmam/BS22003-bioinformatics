{
 "cells": [
  {
   "cell_type": "markdown",
   "metadata": {},
   "source": [
    "# BS22003 Bioinformatics workshop\n",
    "\n",
    "This workshop takes you through some data manipulation using a programming language called python. We'll use as an example the selection of enzymes for cloning a gene. Click on the links below to follow through. Read the text carefully and fill in the blanks when required. \n",
    "\n",
    "* Workshop 1\n",
    "* Workshop 2\n",
    "* Workshop 3\n",
    "* [All workshops in one file](All_Workshops-student_version.ipynb)"
   ]
  }
 ],
 "metadata": {
  "kernelspec": {
   "display_name": "Python 2",
   "language": "python",
   "name": "python2"
  },
  "language_info": {
   "codemirror_mode": {
    "name": "ipython",
    "version": 2
   },
   "file_extension": ".py",
   "mimetype": "text/x-python",
   "name": "python",
   "nbconvert_exporter": "python",
   "pygments_lexer": "ipython2",
   "version": "2.7.11"
  }
 },
 "nbformat": 4,
 "nbformat_minor": 0
}
