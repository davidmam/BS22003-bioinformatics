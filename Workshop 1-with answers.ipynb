{
 "cells": [
  {
   "cell_type": "markdown",
   "metadata": {},
   "source": [
    "# BS22003 Bioinformatics tutorial\n",
    "\n",
    "Welcome to the BS22003 bioinformatics tutorial. Over the three sessions we will explore how a computer can handle biological data and help us perform analysis.\n",
    "In this tutorial we will develop a strategy for cloning a gene into a plasmid. This will require several steps which are outlined in the figure below. \n",
    "\n",
    "We have to learn how to:\n",
    "* represent sequences in a computer\n",
    "* find the text corresponding to a restriction site\n",
    "* Count the number of matches in the gene\n",
    "* make decisions, e.g. deciding whether they are in the correct place for cloning\n",
    "* store this information in a structured way\n",
    "* work through lists, eg Go through a database of restriction enzymes to test them all\n",
    "* use this information to solve our specific problem.\n",
    "\n",
    "![Overview of workshops](day1/overall.gif)\n",
    "\n",
    "## Using this notebook\n",
    "This notebook is made up of **cells** that can be edited and run. This cell contains [Markdown](https://daringfireball.net/projects/markdown/), a text formatting language. To edit this cell double click on it and change what you see. Then press **CTRL + ENTER** to make the changes.\n",
    "\n",
    "Other cell types are code cells. In this notebook they run a language called [Python](http://www.python.org) which is the same language used for many scientific packages. You can see the code cells because they have a [ ] next to them and have a grey background. After you have run the cell (with **CTRL + ENTER** or by using the run button above) a number appears in that box and any output appears below the cell. Try this on the cell below. Click on it so it becomes active then press *CTRL* and *ENTER* together."
   ]
  },
  {
   "cell_type": "markdown",
   "metadata": {},
   "source": [
    "## 1. Representing sequences in a computer and finding restriction sites.\n",
    "In the first of the three workshops we will learn how we can represent a sequence in a computer. We will find specific restriction \n",
    "sites in that sequence and count the number of restriction sites we find. We'll also learn how to chop DNA up into fragments, and how to apply an analysis to all fragments in a list.\n",
    "\n",
    "### 1.1 Sequences and sites"
   ]
  },
  {
   "cell_type": "code",
   "execution_count": null,
   "metadata": {
    "collapsed": true
   },
   "outputs": [],
   "source": [
    "sequence = 'ACTGATCTCGGATCTCGAGGATCGATTCGATGCTAGTCCGGACGATTCGATCGCGATTAGGAGCTTGATTAGCTCTCTAGGATCTCTAGGATTCTAGTAGGCTG'"
   ]
  },
  {
   "cell_type": "markdown",
   "metadata": {},
   "source": [
    "It appears that not much has happened. We know the cell has run because the number on the left has changed. What we have done is to create a _variable_, a named value. The value of the variable is the sequence text. We know this is text because it is surrounded by quotes ' '. If we just type the name of the variable, Python will print out the value stored in that name."
   ]
  },
  {
   "cell_type": "code",
   "execution_count": null,
   "metadata": {
    "collapsed": false
   },
   "outputs": [],
   "source": [
    "sequence"
   ]
  },
  {
   "cell_type": "markdown",
   "metadata": {},
   "source": [
    "If we type a name that we haven't yet defined, Python will give an error."
   ]
  },
  {
   "cell_type": "code",
   "execution_count": null,
   "metadata": {
    "collapsed": false
   },
   "outputs": [],
   "source": [
    "sequnce # note the misspelling"
   ]
  },
  {
   "cell_type": "markdown",
   "metadata": {},
   "source": [
    "The `#` indicates a comment. Python ignores all the text after the `#` which is a comment for us, the human reader.\n",
    "\n",
    "Python has many useful functions. For example we can find the length of the text we have stored in `sequence` with the function `len()` (All functions have () at the end, even if they do not take any values)"
   ]
  },
  {
   "cell_type": "code",
   "execution_count": null,
   "metadata": {
    "collapsed": false
   },
   "outputs": [],
   "source": [
    "len(sequence)"
   ]
  },
  {
   "cell_type": "markdown",
   "metadata": {},
   "source": [
    "And with a string, a piece of text, we can run all sorts of methods to find another piece of text within it, count the number of times it appears and so on. Suppose we want to look for the sequence motif `AGGA` in our sequence?"
   ]
  },
  {
   "cell_type": "code",
   "execution_count": null,
   "metadata": {
    "collapsed": false
   },
   "outputs": [],
   "source": [
    "sequence.find('AGGA')\n",
    "# finds the first occurrence of 'AGGA' in the text in sequence"
   ]
  },
  {
   "cell_type": "markdown",
   "metadata": {},
   "source": [
    "The number that `.find(text)` returns is the position of the text we are looking for (`AGGA`) in sequence.  Is there another occurrence of `AGGA`? We can use the `.count(text)` method to see."
   ]
  },
  {
   "cell_type": "code",
   "execution_count": null,
   "metadata": {
    "collapsed": false
   },
   "outputs": [],
   "source": [
    "sequence.count('AGGA')"
   ]
  },
  {
   "cell_type": "markdown",
   "metadata": {},
   "source": [
    "> #### Thinking point\n",
    "> What happens if we use lower case instead of upper case?\n",
    "> Try finding the text `agga` in the sequence"
   ]
  },
  {
   "cell_type": "code",
   "execution_count": null,
   "metadata": {
    "collapsed": false
   },
   "outputs": [],
   "source": [
    "sequence.count('agga')"
   ]
  },
  {
   "cell_type": "markdown",
   "metadata": {},
   "source": [
    "You can find a lot more methods that can be applied to text at the [official Python documentation pages](https://docs.python.org/3.5/library/stdtypes.html#string-methods)"
   ]
  },
  {
   "cell_type": "markdown",
   "metadata": {},
   "source": [
    "### Challenge 1.1a \n",
    "In the cell below create a new variable with the name `enzyme` that contains the cut site for a restriction enzyme. Teh pattern for the cut site is `TCCGGA`. Then run the following cell. This will read a much longer sequence into the variable `longsequence` from the file [longsequence.txt](longsequence.txt) and check it for the restriction site."
   ]
  },
  {
   "cell_type": "code",
   "execution_count": null,
   "metadata": {
    "collapsed": true
   },
   "outputs": [],
   "source": [
    "enzyme='CTTAAG'"
   ]
  },
  {
   "cell_type": "code",
   "execution_count": null,
   "metadata": {
    "collapsed": false
   },
   "outputs": [],
   "source": [
    "longsequence = open('longsequence.txt').read()\n",
    "longsequence.find(enzyme)"
   ]
  },
  {
   "cell_type": "code",
   "execution_count": null,
   "metadata": {
    "collapsed": false
   },
   "outputs": [],
   "source": [
    "import bs22003 # this reads in routines that will test your code for you. Do not edit this cell, just run it.\n",
    "bs22003.test1(globals())"
   ]
  },
  {
   "cell_type": "markdown",
   "metadata": {},
   "source": [
    "### Challenge 1.1b\n",
    "What about the enzyme EcoRI (cut site `GAATTC`)? Fix and run the cell below."
   ]
  },
  {
   "cell_type": "code",
   "execution_count": null,
   "metadata": {
    "collapsed": false
   },
   "outputs": [],
   "source": [
    "ecori = 'GAATTC'  # fill this in properly\n",
    "longsequence.count(ecori) #instead of finding the site, this counts the number of time it appears."
   ]
  },
  {
   "cell_type": "markdown",
   "metadata": {},
   "source": [
    "If we try to find the EcoRI sites in our long sequence we only find the first one if we call `longsequence.find(ecori)`. Change the cell below to store the position of the first cut site. You should use the variable name `cut1` and set it to the value we get from running the command in the cell."
   ]
  },
  {
   "cell_type": "code",
   "execution_count": null,
   "metadata": {
    "collapsed": false
   },
   "outputs": [],
   "source": [
    "cut1=longsequence.find(ecori)"
   ]
  },
  {
   "cell_type": "markdown",
   "metadata": {},
   "source": [
    "We can then print this out using the variable name.\n",
    "> #### Variable names\n",
    "> Which variable names can we have? Python has some simple rules.\n",
    "> 1. They cannot contain spaces\n",
    "> 2. They can only start with letters or the underscore\n",
    "> 3. They cannot be a Python keyword"
   ]
  },
  {
   "cell_type": "code",
   "execution_count": null,
   "metadata": {
    "collapsed": false
   },
   "outputs": [],
   "source": [
    "cut1"
   ]
  },
  {
   "cell_type": "markdown",
   "metadata": {},
   "source": [
    "With `.find(text)` we can add another option to tell Python where to start looking in our sequence. We have to add 1 to the position we find in `cut1` otherwise we just find the same position again. Change the cell below to save the position of the second restriction site to the variable `cut2`"
   ]
  },
  {
   "cell_type": "code",
   "execution_count": null,
   "metadata": {
    "collapsed": false
   },
   "outputs": [],
   "source": [
    "cut2=longsequence.find(ecori,cut1+1)"
   ]
  },
  {
   "cell_type": "code",
   "execution_count": null,
   "metadata": {
    "collapsed": false
   },
   "outputs": [],
   "source": [
    "#Check you have this correct by running this cell\n",
    "bs22003.test1a(globals())"
   ]
  },
  {
   "cell_type": "markdown",
   "metadata": {},
   "source": [
    "### Challenge 1.1c\n",
    "You can use simple arithmetic with raw values, such as *1*, variables such as *a* or *b*, or the value returned by functions such as *len(text)*. eg `a - b` to subtract the value in b from the value in a, or `a/2` to divide *a* by the literal value 2, or `b + len(text)` to add the length of *text* to the value in *b*.  \n",
    "The diagram below gives a guide to calculating the fragment lengths for the EcoR1 cuts of our sequence.  \n",
    "![fragments](fragments.png)\n",
    "\n",
    "Save the lengths of the fragments of `longsequence` produced by the enzyme EcoRI in the variables `frag1-frag3` in the cell below. Then run the next cell to check your answer."
   ]
  },
  {
   "cell_type": "code",
   "execution_count": null,
   "metadata": {
    "collapsed": false
   },
   "outputs": [],
   "source": [
    "frag1 = cut1\n",
    "frag2 = cut2-cut1\n",
    "frag3 = len(longsequence)-cut2"
   ]
  },
  {
   "cell_type": "code",
   "execution_count": null,
   "metadata": {
    "collapsed": false
   },
   "outputs": [],
   "source": [
    "#Check your code by running this cell\n",
    "bs22003.test2(globals())"
   ]
  },
  {
   "cell_type": "markdown",
   "metadata": {},
   "source": [
    "## 1.2 Getting bits of a text string \n",
    "\n",
    "So far we have been looking at positions in a piece of text. We have found the location where our enzyme cut site is, but it would be good to get the complete fragment.\n",
    "\n",
    "We can access parts of a piece of text using code like `text[start:end]` where _text_ is the variable we want to get part of, _start_ is the first position we want to get, and _end_ is the position **_after_** the last letter we want. This is very much like R but Python counts differently - **the first position is 0, not 1.**\n",
    "As we know the position of our first cut site, and the length of our enzyme cut site, we should be able to retrieve it.\n",
    "\n",
    "![Finding parts of a string](day1/Slide1.PNG)"
   ]
  },
  {
   "cell_type": "code",
   "execution_count": null,
   "metadata": {
    "collapsed": false
   },
   "outputs": [],
   "source": [
    "cutsite=longsequence[cut1: cut1+len(ecori)]\n",
    "print(cutsite)\n"
   ]
  },
  {
   "cell_type": "markdown",
   "metadata": {},
   "source": [
    "We can easily get the sequence that is created by the cleavage. Let's also translate this to lower case. A little python trick is that if the part of a list we want to get (and text is a list of letters, or characters) includes the start then we don't need to include that number, or if it includes the end we don't need to include that number."
   ]
  },
  {
   "cell_type": "code",
   "execution_count": null,
   "metadata": {
    "collapsed": false
   },
   "outputs": [],
   "source": [
    "print(longsequence[:cut1].lower()) \n",
    "# longsequence[:cut1] gives a piece of text, so we can then run \n",
    "# .lower() on it which gives another piece of text, which is then printed."
   ]
  },
  {
   "cell_type": "markdown",
   "metadata": {},
   "source": [
    "What happens if we add bits of text together? If we use a `+` then Python will join two bits of text together. So we can splice out the middle fragment with:"
   ]
  },
  {
   "cell_type": "code",
   "execution_count": null,
   "metadata": {
    "collapsed": false
   },
   "outputs": [],
   "source": [
    "print(longsequence[:cut1]+longsequence[cut2:].lower())\n",
    "# I used lower so you can see where the join is between the two sequences.\n"
   ]
  },
  {
   "cell_type": "markdown",
   "metadata": {},
   "source": [
    "> ### Challenge 1.2a\n",
    "> Print out the full sequence, but in lower case with the restriction sites in upper case.\n",
    "> **Hint:** concatenate (add) each fragment together using the `+` operator with the enzyme recognition site in 'ecori' in between. Don't include the enzyme site when you add \n",
    "> the fragment in lower case. It should look like this when done (apart from the dotted bits where the sequence is not shown for clarity):\n",
    "> \n",
    "> ```... gccaggagaaagggGAATTCagagaaa ... aggctggtcttGAATTCctgacctca ... ```\n",
    ">\n",
    "> Do this by first assigning the formatted sequence to the variable `prettyseq`."
   ]
  },
  {
   "cell_type": "code",
   "execution_count": null,
   "metadata": {
    "collapsed": false
   },
   "outputs": [],
   "source": [
    "prettyseq =longsequence[:cut1].lower()+ecori+longsequence[cut1+6:cut2].lower()+ecori+longsequence[cut2+6:].lower()\n",
    "print(prettyseq)"
   ]
  },
  {
   "cell_type": "code",
   "execution_count": null,
   "metadata": {
    "collapsed": false
   },
   "outputs": [],
   "source": [
    "bs22003.test4(globals())"
   ]
  },
  {
   "cell_type": "markdown",
   "metadata": {},
   "source": [
    "### 1.3 Trying several restriction sites\n",
    "\n",
    "Try the following restriction sites. \n",
    "\n",
    "| Enzyme | Recognition site | forward cut | reverse cut |\n",
    "|---|---|---|---|\n",
    "|BsaI|\tGGTCTC|\t7\t|11|\n",
    "|HindIII\t|AAGCTT\t|1|\t5|\n",
    "|MvnI\t|CGCG|\t2\t|2|\n",
    "|SmaI\t|CCCGGG\t|3|\t3|\n",
    "\n",
    "\n",
    "* Which pattern isn't found at all?\n",
    "* Which produces the largest fragment? \n",
    "* Which produces the smallest fragment?\n",
    "\n",
    "To answer these questions, create a variable to hold each text pattern. You can use `longsequence.count(enzyme)` for each enzyme to find the one that doesn't count, and `longsequence.find(enzyme, from)` to find the cut sites. Use the the cell below for your working and fill in the values you calculate into the variables in the following cell and run it. When you cna run it without error, try the test routine."
   ]
  },
  {
   "cell_type": "code",
   "execution_count": null,
   "metadata": {
    "collapsed": false
   },
   "outputs": [],
   "source": [
    "bsai = 'GGTCTC' # I've made a start.. keep the variable name lower case and the value upper case.\n",
    "hindiii='AAGCTT'\n",
    "mvni='CGCG'\n",
    "smai='CCCGGG'\n",
    "\n",
    "print(longsequence.count(bsai)) # one piece - not cut\n",
    "print(longsequence.count(hindiii)) # four pieces\n",
    "print(longsequence.count(mvni)) # two pieces\n",
    "print(longsequence.count(smai)) # two pieces\n",
    "\n"
   ]
  },
  {
   "cell_type": "code",
   "execution_count": null,
   "metadata": {
    "collapsed": true
   },
   "outputs": [],
   "source": [
    "noncutter=bsai # eg. noncutter=ecori\n",
    "largest_frag = 2009 # in base pairs\n",
    "largest_cutter = 'SmaI'# name of the enzyme giving the largest fragment, e.g. 'EcoRI'\n",
    "smallest_frag = 118 # in base pairs\n",
    "smallest_cutter = 'SmaI'# name of the enzyme giving the smallest fragment"
   ]
  },
  {
   "cell_type": "code",
   "execution_count": null,
   "metadata": {
    "collapsed": false
   },
   "outputs": [],
   "source": [
    "bs22003.test5(globals())"
   ]
  },
  {
   "cell_type": "markdown",
   "metadata": {},
   "source": [
    "### 1.4 Splitting into fragments\n",
    "We can now find the number of times a pattern appears in a sequence  with `sequence.count(pattern)` where _sequence_ is the text we are searching and _pattern_ is the text we are searching for. We can also split a piece of text on a particular pattern using the `text.split(pattern)` function. You can find a lot more commands to do things to text [here](https://docs.python.org/3/library/string.html)\n",
    "\n",
    "![Splitting a string](day1/Slide2.PNG)"
   ]
  },
  {
   "cell_type": "code",
   "execution_count": null,
   "metadata": {
    "collapsed": false
   },
   "outputs": [],
   "source": [
    "frags=longsequence.split('GCGC')\n",
    "#this creates a list of fragments, each of which is a bit of text.\n",
    "len(frags)\n",
    "#gives us the number of fragments in the list."
   ]
  },
  {
   "cell_type": "markdown",
   "metadata": {},
   "source": [
    "`frags` is a list variable. It contains a list of values. These values can be anything - numbers, text, or even other lists or objects. Just as with text earlier we can get to any item in the list with `list[itemnumber]` or a sub-list (a *slice* ) with `list[startwith:endbefore]` where _startwith_ is the position of the first item in the sub-list and _endbefore_ is the position of the item immediately after the last one we want.\n",
    "\n",
    "![parts of a list](day1/Slide3.PNG)"
   ]
  },
  {
   "cell_type": "code",
   "execution_count": null,
   "metadata": {
    "collapsed": false
   },
   "outputs": [],
   "source": [
    "print(len(frags[0]))\n",
    "print(len(frags[1]))\n",
    "print(len(frags[2]))\n"
   ]
  },
  {
   "cell_type": "markdown",
   "metadata": {},
   "source": [
    "It would be quite tedious to write out \n",
    "```\n",
    "print(len(frags[0]))\n",
    "print(len(frags[1]))\n",
    "...\n",
    "```\n",
    "to get the length of every fragment. Instead we can go through the list one item at a time with a **_loop_**. This looks like:\n",
    "```\n",
    "for item in list:\n",
    "    do something with item\n",
    "    and something more\n",
    "    and something more\n",
    "    \n",
    "```\n",
    "Python takes the list and sets the variable _item_ (it can be any valid name we want) to the first item in the list. It then runs all the code that is indented (that is how python knows that the code is part of the loop). Python repeats this for every item in the list. Lets try that for our list of fragments."
   ]
  },
  {
   "cell_type": "code",
   "execution_count": null,
   "metadata": {
    "collapsed": false
   },
   "outputs": [],
   "source": [
    "for f in frags:\n",
    "    print(len(f))\n",
    "    "
   ]
  },
  {
   "cell_type": "markdown",
   "metadata": {},
   "source": [
    "It doesn't matter how long the list is, python will work through it one item at a time. The animation below shows how this happens. The loop variable (the grey circle) takes the value of each list element in turn and applies the commands in the loop on it. \n",
    "\n",
    "![A loop](day1/loopanim.gif)\n",
    "\n",
    "We can put loops inside loops as long as we indent them properly\n",
    "```\n",
    "for thingy in biglist:\n",
    "    commands for doing things to thingy\n",
    "    for bit in thingy:\n",
    "        commands for doing things to each bit of thingy\n",
    "    more commands for doing things to thingy\n",
    "    \n",
    "```\n",
    "Note how the commands are indented so that Python knows which ones relate to which loop.\n",
    "\n",
    "\n",
    "![A loop](day1/twolistanim.gif)\n",
    "\n",
    "### 1.5 More on lists\n",
    "\n",
    "We have created a list of fragments using `text.split(pattern)`. What if we want to create our own list? We can do that by assigning a list of values between `[ ]` to a variable name.\n",
    "\n",
    "```\n",
    "mylist = ['item1', 'item 2', 'item 3']\n",
    "```\n",
    "\n",
    "A list can even contain other lists\n",
    "\n",
    "```\n",
    "mylistoflists = [ ['a1', 2 3], ['listb','more in list b'] ]\n",
    "```\n",
    "The lists can be of any length and do not have to have the same type of data.\n",
    "\n",
    "To add to a list we use `list.append(item)` and to remove from a list we use `list.remove(item)` \n"
   ]
  },
  {
   "cell_type": "code",
   "execution_count": null,
   "metadata": {
    "collapsed": true
   },
   "outputs": [],
   "source": [
    "mylist= [1,2,3,['a','b','c']]\n",
    "\n",
    "print(mylist[2])\n",
    "print(mylist[3])\n",
    "print(mylist[3][2]) #note how we use the indexes for the first list, then the sublist and so on."
   ]
  },
  {
   "cell_type": "code",
   "execution_count": null,
   "metadata": {
    "collapsed": true
   },
   "outputs": [],
   "source": [
    "# what happens when we use invalid indexes\n",
    "print(mylist[10])"
   ]
  },
  {
   "cell_type": "markdown",
   "metadata": {},
   "source": [
    "### Challenge 1.4 Calculate the variance of the fragment lengths for MvnI\n",
    "\n",
    "You will need two loops, one to calculate the total length of the fragments, and then another to calculate the total variance. The first part is done for you"
   ]
  },
  {
   "cell_type": "code",
   "execution_count": null,
   "metadata": {
    "collapsed": false
   },
   "outputs": [],
   "source": [
    "#This uses a variable mvni which contains the pattern for MvnI\n",
    "frags=longsequence.split(mvni)\n",
    "totallength=0\n",
    "for f in frags:\n",
    "    totallength = totallength+len(f)\n",
    "averagelength = totallength/len(frags)\n",
    "\n",
    "sumofsquares=0\n",
    "for f in frags:\n",
    "    #remember the sum of squares is the sum of the squares of the (fragment length - average fragment length)\n",
    "    # a quick qay to raise something to a power is to do variable ** 2 to get variable squared\n",
    "    #FILL IN THE RIGHT COMMAND HERE\n",
    "    sumofsquares+=(averagelength-len(f))**2\n",
    "    \n",
    "variance = sumofsquares/len(frags)\n",
    "print(variance)"
   ]
  },
  {
   "cell_type": "code",
   "execution_count": null,
   "metadata": {
    "collapsed": false
   },
   "outputs": [],
   "source": [
    "bs22003.test6(globals())"
   ]
  },
  {
   "cell_type": "markdown",
   "metadata": {},
   "source": [
    "# probably the end of week 1."
   ]
  },
  {
   "cell_type": "markdown",
   "metadata": {},
   "source": [
    "# BS22003 Bioinformatics Day 2\n",
    "\n",
    "Last time we had:\n",
    "* stored our sequence as a text variable. \n",
    "* stored the different restriction enzyme recognition sites as text\n",
    "* found the cleavage sites for the enzyme\n",
    "* 'digested' the sequence into a *list* of fragments using `text.split(pattern)` that we could then analyse with a `for` loop.\n",
    "\n",
    "Run the cell below to restore the session to where we got to at the end of the last workshop"
   ]
  },
  {
   "cell_type": "code",
   "execution_count": null,
   "metadata": {
    "collapsed": true
   },
   "outputs": [],
   "source": [
    "import bs22003\n",
    "longsequence = open('longsequence.txt').read()\n",
    "bsai = 'GGTCTC' # I've made a start.. keep the variable name lower case and the value upper case.\n",
    "hindiii='AAGCTT'\n",
    "mvni='CGCG'\n",
    "smai='CCCGGG'\n",
    "ecori='GAATTC'\n",
    "frags=longsequence.split(ecori)"
   ]
  },
  {
   "cell_type": "markdown",
   "metadata": {},
   "source": [
    "In this workshop we will:\n",
    "* make decisions based on our data\n",
    "    This will allow us to choose which enzymes or sites to use for cloning\n",
    "* see how we can read in lots of data from a file\n",
    "    This will let us read in all the enzymes without having to type them in\n",
    "* Store data in a suitable data structure\n",
    "    So we can keep our data organised and find it when we need it.\n",
    "\n",
    "## 2.1 Making decisions\n",
    "Sometimes we want to be able to do different things depending on the situation. For example, if we want to find enzymes that cut only once, or cut between certain positions.\n",
    "We can do this using an `if: ... else:` command\n",
    "\n",
    "```\n",
    "if something is true:\n",
    "    do this\n",
    "else:\n",
    "    do that\n",
    "```\n",
    "\n",
    "As an example, let's find the shortest fragment in our list."
   ]
  },
  {
   "cell_type": "code",
   "execution_count": null,
   "metadata": {
    "collapsed": false
   },
   "outputs": [],
   "source": [
    "shortest=len(frags[0])\n",
    "#the shortest fragment will either be frags[0] or shorter than frags[0] so we can set that value first.\n",
    "for f in frags:\n",
    "    if len(f) < shortest:\n",
    "        shortest=len(f)\n",
    "print(shortest)\n",
    "\n"
   ]
  },
  {
   "cell_type": "markdown",
   "metadata": {},
   "source": [
    "How the if-else construct works:\n",
    "1. The statement in the if statement is evaluated to see whether it is true or false\n",
    "2. If it is True, then the code in the `if` block is run\n",
    "3. If it is False then the code in the `else:` block (if there is one) is run\n",
    "\n",
    "![If-else construct](day1/ifelse.gif)\n",
    "\n",
    "How about finding the longest?\n",
    "Note that just like the `for .. in ..:`, the `if .. :` and `else:` also end with colons and the commands to carry out in each block are indented."
   ]
  },
  {
   "cell_type": "code",
   "execution_count": null,
   "metadata": {
    "collapsed": false
   },
   "outputs": [],
   "source": [
    "longest=0\n",
    "for f in frags:\n",
    "    if len(f)> longest:#fill in the rest.\n",
    "        longest=len(f)\n",
    "print(longest)"
   ]
  },
  {
   "cell_type": "code",
   "execution_count": null,
   "metadata": {
    "collapsed": false
   },
   "outputs": [],
   "source": [
    "bs22003.test7(globals())"
   ]
  },
  {
   "cell_type": "markdown",
   "metadata": {},
   "source": [
    "> There can be many different sorts of test in an `if:` statement.\n",
    ">\n",
    "> |Statement or value | Evaluates as |\n",
    "> | --- | --- |\n",
    "> | 0 | False |\n",
    "> | 1 | True |\n",
    "> |'' (text of zero length) | False |\n",
    "> | 'Hello' (text with at least one letter) | True |\n",
    "> | `[]` (an empty list) | False|\n",
    "> | `[a]` (a list with elements) | True |\n",
    "> | `a in b` | True if the value `a` is found in the list `b`|\n",
    "> | `a not in b` | True if the value `a` is not in the list `b` |\n",
    "> | `a == b` | True if `a` is equal to `b`, false otherwise |\n",
    "> | `>` `<` etc. | True if the inequality is True |\n",
    "> | `a and b` | True only if both statement a AND statement b are true |\n",
    "> | `a or b` | True if either a OR b are true |\n",
    "> | `not a` | True if a is false |"
   ]
  },
  {
   "cell_type": "markdown",
   "metadata": {},
   "source": [
    "## 2.2 Reading information from file\n",
    "So far we have written all our enzymes out by hand. The [REBASE](http://rebase.com) database contains many thousands of restriction enzymes. The file `enzymes.txt` contains a selection of many hundred of these. We can read them in from a file and process our sequence. \n",
    "\n",
    "To open a file we create a _filehandle_, a bookmark that lets us get to any point in the file. We can read from the file one line at a time or read all the lines at once as a list.\n"
   ]
  },
  {
   "cell_type": "code",
   "execution_count": null,
   "metadata": {
    "collapsed": true
   },
   "outputs": [],
   "source": [
    "fh = open('enzymes.txt')"
   ]
  },
  {
   "cell_type": "markdown",
   "metadata": {},
   "source": [
    "`fh` is our bookmark. Note that we put _enzymes.txt_ between quotes as it is the text name of the file. \n",
    "\n",
    "Run the next cell several times (with CTRL-ENTER) and see what it gives us."
   ]
  },
  {
   "cell_type": "code",
   "execution_count": null,
   "metadata": {
    "collapsed": false
   },
   "outputs": [],
   "source": [
    "fh.readline()"
   ]
  },
  {
   "cell_type": "markdown",
   "metadata": {},
   "source": [
    "The first line returned is\n",
    "```\n",
    "'AanI\\tTTATAA\\t3\\t3\\n'\n",
    "```\n",
    "This is the enzyme name, a TAB character (represented by `\\t`), the pattern at which the enzyme cuts, another TAB, the cut position (number of bases from the start) of the pattern on the forward strand and the cut position on the reverse strand. The text finishes off with a NEWLINE character `\\n`. \n",
    "\n",
    "![reading line by line](day1/filehandle.gif)\n",
    "\n",
    "> #### Special characters\n",
    "> The _special characters_ are ones that we can't easily type at the keyboard. These are relics of the old days of computing. \n",
    "> They are represented in text by a backslash `\\` followed by a letter or other symbol. \n",
    "> These are known as _escape codes_ as the normal meaning of the letter is 'escaped' by the `\\`. \n",
    ">\n",
    "> | code | character |\n",
    "> | --- | --- |\n",
    "> | \\t | Tab |\n",
    "> | \\n | Newline|\n",
    "> | \\r | carriage return |\n",
    "> | \\b | backspace |\n",
    "> | \\\\\\\\  | \\ itself|\n",
    "\n",
    "We can see the effect of these special characters if we print the value instead.\n"
   ]
  },
  {
   "cell_type": "code",
   "execution_count": null,
   "metadata": {
    "collapsed": false
   },
   "outputs": [],
   "source": [
    "print(fh.readline())"
   ]
  },
  {
   "cell_type": "markdown",
   "metadata": {},
   "source": [
    "Note that the filehandle `fh` moves on to the next line each time we call `fh.readline()`. To get to the start of the file again we need to run the open command again or run `fh.seek(0)` which will take us back to the top of the file.\n",
    "\n",
    "We can read the line from `fh.readline()` into a variable so that we can process it further. If we then split it to a list (splitting on the TAB character that separates each part of the line) we can get each of the parts we want from each entry.\n",
    "\n",
    "![reading and parsing each line](day1/readparse.gif)"
   ]
  },
  {
   "cell_type": "code",
   "execution_count": null,
   "metadata": {
    "collapsed": true
   },
   "outputs": [],
   "source": [
    "fh.seek(0)\n"
   ]
  },
  {
   "cell_type": "code",
   "execution_count": null,
   "metadata": {
    "collapsed": false
   },
   "outputs": [],
   "source": [
    "line =  fh.readline() # read in the next line from the file\n",
    "parts= line.split('\\t') # create a list of parts by splitting it on the tab character\n",
    "name=parts[0]    # create a variable 'name'  with the value of the first part. remember that we start counting at 0 in Python, not 1 \n",
    "pattern=parts[1] # create a variable with the value of the second part\n",
    "forwardcut=parts[2]\n",
    "reversecut=parts[3]\n",
    "cutsites = longsequence.count(pattern) # remember what this does from before? We use the variable pattern as the text to find \n",
    "print('Enzyme '+name+' cuts at '+pattern+' which occurs '+str(cutsites)+' times in the gene sequence')"
   ]
  },
  {
   "cell_type": "markdown",
   "metadata": {},
   "source": [
    "Run the cell above repeatedly to see each line in turn.\n",
    "\n",
    "We have so far read each line one at a time. We can get a list of all the remaining lines with `fh.readlines()` (notice it is plural). This can be used as a list to go through every line in a file\n",
    "\n",
    "```\n",
    "for line in fh.readlines():\n",
    "    do stuff to the line\n",
    "    do more stuff to the line\n",
    "```\n",
    "\n",
    "So let's go through each line in the file and find all the enzymes that cut our gene sequence only once."
   ]
  },
  {
   "cell_type": "code",
   "execution_count": null,
   "metadata": {
    "collapsed": false
   },
   "outputs": [],
   "source": [
    "fh.seek(0) # go back to the start of the file\n",
    "for line in fh.readlines(): # spot the difference between fh.readline() and fh.readlines()\n",
    "    parts=line.split('\\t')\n",
    "    name=parts[0]\n",
    "    pattern=parts[1]\n",
    "    if longsequence.count(pattern) == 1: \n",
    "        print(name+' cuts once')\n"
   ]
  },
  {
   "cell_type": "markdown",
   "metadata": {},
   "source": [
    "### Challenge 2.1\n",
    "How many enzymes cut only once? How many do not cut at all?\n",
    "**Hint:** create an empty list, then add the enzymes that cut only once using the `list.append(item)` to add _item_ to _list_."
   ]
  },
  {
   "cell_type": "code",
   "execution_count": null,
   "metadata": {
    "collapsed": false
   },
   "outputs": [],
   "source": [
    "fh.seek(0) # to go back to the start of the file\n",
    "\n",
    "singlecutters=[] # this is our empty list.\n",
    "\n",
    "enzcount=0 # here is a counter to count the total number of enzymes we read in.\n",
    "\n",
    "for line in fh.readlines():\n",
    "    enzcount += 1 # add one to enzcount\n",
    "    parts=line.split('\\t')\n",
    "    name=parts[0]\n",
    "    pattern=parts[1]\n",
    "    if longsequence.count(pattern) == 1: \n",
    "        #put your code here\n",
    "        singlecutters.append(pattern)\n",
    "\n",
    "print('The number of single cutting enzymes is '+str(len(singlecutters))+' from '+str(enzcount))\n"
   ]
  },
  {
   "cell_type": "code",
   "execution_count": null,
   "metadata": {
    "collapsed": false
   },
   "outputs": [],
   "source": [
    "bs22003.test8(globals())"
   ]
  },
  {
   "cell_type": "markdown",
   "metadata": {},
   "source": [
    "## 2.3 Types of data\n",
    "So far we have seen several sorts of data\n",
    "* text - a list of characters\n",
    "* numbers - either whole numbers (integers) or floating point (decimals)\n",
    "* lists - an ordered collection of data items\n",
    "\n",
    "We can convert one type to another with simple commands. `'101'` si the letters '1', '0', and '1', but we can turn it into the number `101` with the command\n",
    "```\n",
    "int('101')\n",
    "```\n",
    "This is very useful when reading values from text files like our enzyme file. use `float(text)` to make a decimal number from its text representation.  \n",
    "We can turn numbers into text for printing or writing to file using the command `str(number)`\n",
    "\n",
    "```\n",
    "str(101)\n",
    "```\n",
    "will give us the text `'101'`.\n",
    "\n",
    "\n",
    "What if we want to keep a collection of data items together that don't have any natural order but would be best referred to by name? We can do that with a _dictionary_ which is a set where each data item is referred to by a unique tag or _key_. That _key_ and its associated _value_ make a _key:value pair_. A dictionary is a set of key-value pairs that have no explicit order so instead of referring to each item by its position (as in a list) we refer to the value using the key between square brackets _dict[key]_.\n",
    "\n",
    "![dictionary structure](day1/dictionaries.gif)"
   ]
  },
  {
   "cell_type": "code",
   "execution_count": null,
   "metadata": {
    "collapsed": false
   },
   "outputs": [],
   "source": [
    "#create a dictionary\n",
    "mydict={'key':'value', 'anotherkey':'anothervalue', 'key3':3}\n",
    "mydict"
   ]
  },
  {
   "cell_type": "code",
   "execution_count": null,
   "metadata": {
    "collapsed": false
   },
   "outputs": [],
   "source": [
    "#Note that the key:value pairs can come in any order\n",
    "mydict['anotherkey'] #retrieve the value stored with the key ['anotherkey']\n"
   ]
  },
  {
   "cell_type": "code",
   "execution_count": null,
   "metadata": {
    "collapsed": false
   },
   "outputs": [],
   "source": [
    "# set the value stored in ['key']\n",
    "mydict['anotherkey']='a different value'\n",
    "mydict['more keys']='more values'\n",
    "mydict"
   ]
  },
  {
   "cell_type": "code",
   "execution_count": null,
   "metadata": {
    "collapsed": false
   },
   "outputs": [],
   "source": [
    "# remove a key from a dictionary\n",
    "del(mydict['key'])\n",
    "mydict"
   ]
  },
  {
   "cell_type": "markdown",
   "metadata": {},
   "source": [
    "We can use a dictionary of dictionaries to store our enzyme data. We can read each line into a dictionary, labelling each part. Then we can add the enzyme information as a value to a master enzymes dictionary, using the enzyme name as the key. Using the enzyme name, we retrieve a dictionary containing the information about that particular enzyme.\n",
    "\n",
    "![The structure of the enzymes dictionary](day1/enzymes.gif)\n",
    "\n"
   ]
  },
  {
   "cell_type": "code",
   "execution_count": null,
   "metadata": {
    "collapsed": false
   },
   "outputs": [],
   "source": [
    "#go back to the top of our enzyme file\n",
    "fh=open('enzymes.txt')\n",
    "enzymes={} # make an empty dictionary to which we can append our data.\n",
    "for line in fh.readlines():\n",
    "    parts=line.split('\\t') # make our line into a list of values\n",
    "    #now create a dictionary to put our values with their names\n",
    "    enz={'name':parts[0], 'pattern':parts[1], 'forcut':int(parts[2]), 'revcut':int(parts[3])}\n",
    "    enzymes[parts[0]]=enz #add our dictionary to the master list\n",
    "\n",
    "print('read '+str(len(enzymes))+' enzymes')\n",
    "# note that we use str() to convert the value len() gives us (an integer) to text so that it can be printed"
   ]
  },
  {
   "cell_type": "code",
   "execution_count": null,
   "metadata": {
    "collapsed": false
   },
   "outputs": [],
   "source": [
    "#Try and retrieve an enzyme by name to see it's details, eg HindIII or EcoRI\n",
    "enzymes['EcoRI']"
   ]
  },
  {
   "cell_type": "markdown",
   "metadata": {},
   "source": [
    "## 2.4 Getting some numbers on the enzymes\n",
    "Now we have a directory of enzymes, we can do some counting and analysis. Follow the examples below and try the challenges:\n",
    "\n",
    "### How many have a 5' overlap?\n",
    "If the forward cut is before the reverse cut then the enzyme will have a 5' overlap (and vice versa if it is a 3' overlap). We can loop through the _values_ in our dictionary (the _keys_ are the enzyme name, each value is another dictionary containing the information for that enzyme) and check to see if they have 5' overhangs with an `if` statement. See the diagram below to explain what each bit of code does.\n",
    "\n",
    "![Code walkthrough](day1/example1.gif)\n"
   ]
  },
  {
   "cell_type": "code",
   "execution_count": null,
   "metadata": {
    "collapsed": false
   },
   "outputs": [],
   "source": [
    "fiveprime=0 # why can't we use the name 5prime?\n",
    "\n",
    "for enz in enzymes.values():\n",
    "    # enz is now a dictionary with our enzyme information\n",
    "    if enz['forcut'] < enz['revcut']:\n",
    "        fiveprime = fiveprime + 1\n",
    "print(str(fiveprime)+\" enzymes give a 5' overhang\")"
   ]
  },
  {
   "cell_type": "markdown",
   "metadata": {},
   "source": [
    "### How many recognition sites start with a G? "
   ]
  },
  {
   "cell_type": "code",
   "execution_count": null,
   "metadata": {
    "collapsed": false
   },
   "outputs": [],
   "source": [
    "count=0 # why can't we use the name 5prime?\n",
    "\n",
    "for enz in enzymes.values():\n",
    "    # enz is now a dictionary with our enzyme information\n",
    "    if enz['pattern'].startswith('G'):\n",
    "        count = count + 1\n",
    "print(str(count)+\" enzymes have a pattern starting with G\")"
   ]
  },
  {
   "cell_type": "markdown",
   "metadata": {},
   "source": [
    "### Challenge: How many enzymes are blunt cutters?\n",
    "### Challenge: Do more enzymes with patterns 6 bp or more have a pattern starting with 'C' than with 'G'?\n",
    "**Hint: use an `and` to join two tests together in an `if` statement**"
   ]
  },
  {
   "cell_type": "code",
   "execution_count": null,
   "metadata": {
    "collapsed": false
   },
   "outputs": [],
   "source": [
    "#do your working here\n",
    "enzymes['HindIII']"
   ]
  },
  {
   "cell_type": "markdown",
   "metadata": {},
   "source": [
    "# End day 2 here"
   ]
  },
  {
   "cell_type": "markdown",
   "metadata": {},
   "source": [
    "# BS22003 Bioinformatics Workshop Session 3\n",
    "In the previous workshops we have learned how to:\n",
    "* [Workshop 1](Workshop1.ipynb) find restriction sites\n",
    "* chop up text as we wish\n",
    "* work through a list of things one at a time\n",
    "* [Workshop 2](Workshop2.ipynb) Read data from a file\n",
    "* represent it in a structured manner\n",
    "* make decisions and select data \n",
    "\n",
    "We are now ready to put it all together, to find restriction sites on our gene and plasmid and to choose the ones which have compatible sticky ends. To get the session back to where it was at the end of the last session, run the cell below. This will read in the enzymes (to the dictionary `enzymes`) adn also load the bs22003 module that does our testing."
   ]
  },
  {
   "cell_type": "code",
   "execution_count": null,
   "metadata": {
    "collapsed": true
   },
   "outputs": [],
   "source": [
    "import bs22003\n",
    "fh=open('enzymes.txt')\n",
    "enzymes={} # make an empty dictionary to which we can append our data.\n",
    "for line in fh.readlines():\n",
    "    parts=line.split('\\t') # make our line into a list of values\n",
    "    #now create a dictionary to put our values with their names\n",
    "    enz={'name':parts[0], 'pattern':parts[1], 'forcut':int(parts[2]), 'revcut':int(parts[3])}\n",
    "    enzymes[parts[0]]=enz #add our dictionary to the master list\n",
    "\n",
    "print('read '+str(len(enzymes))+' enzymes')"
   ]
  },
  {
   "cell_type": "markdown",
   "metadata": {},
   "source": [
    "## 3.1 Making it stick\n",
    "\n",
    "So far we have just been presuming that where the pattern of our restriction enzyme matched was the cut site. As we know, \n",
    "restriction enzymes can cut in many places to give compatible overlaps, even though the patterns may differ. \n",
    "We also have got all our calculations for the fragment length mostly wrong \n",
    "(well, all the ends are wrong, the internal fragments are mostly right) \n",
    "\n",
    "Check the diagram below which shows the three main classes of restriction enzyme cut site. \n",
    "It can form a 5' overlap where the 5' end of the fragment (the reverse strand) is not paired with the complementary strand, \n",
    "a 3' overlap where the 3' end of the fragment (the forward strand) is not paired, or a blunt cut where there is no 'sticky end'\n",
    "\n",
    "![restrictioncuts.png](restrictioncuts.png)\n",
    "\n",
    "If the pattern is the NNNNNN, then the forward cut value is the number of bases before the cut on the forward strand, and the reverse cut is the number of bases before the cut on the reverse strand (or after if you look at the reverse strand from 5' to 3'). If we look at our enzymes we can divide them into four classes:\n",
    "\n",
    "| class | criteria | cut location |\n",
    "|---|---|---|\n",
    "|Blunt cutter| Forward cut == Reverse Cut | Inside pattern |\n",
    "|5' overhang | Forward cut < Reverse cut | Inside Pattern | \n",
    "|3' overhang | Forward cut > Reverse cut | Inside Pattern |\n",
    "|External cutter | Either | Cuts outside the pattern |\n",
    "\n",
    "If we want to be able to find compatible sticky ends then we need to classify our enzymes by their sticky ends. What we will do is to create a key 'overlap' for each enzyme. It will contain the text 'Blunt' for blunt cutters, 'External' for those that cut outside the pattern, and the overlap for the enzymes that create sticky ends inside their recognition site. To distinguish between the 3' overlap and 5' overlap we will make the 3' overlap upper case and the 5' overlap lower case.\n"
   ]
  },
  {
   "cell_type": "code",
   "execution_count": null,
   "metadata": {
    "collapsed": false
   },
   "outputs": [],
   "source": [
    "overlaps={} # create a dictionary to hold the overlaps\n",
    "for enz in enzymes.values(): # go through our list of enzymes one at a time. Each time the dictionary is called enz\n",
    "    overlap='' # a variable to hold our overlap value\n",
    "    if enz['forcut'] > len(enz['pattern']) or enz['revcut'] > len(enz['pattern']):\n",
    "        # enzyme cuts outwith the pattern\n",
    "        overlap='External'\n",
    "    elif enz['forcut']==enz['revcut']:\n",
    "        #fill this in \n",
    "        overlap='Blunt'\n",
    "    elif enz['forcut'] < enz['revcut']: #fill this in and don't forget the : at the end - this should get the 5' overhangs\n",
    "        overlap=enz['pattern'][enz['forcut']:enz['revcut']].lower() \n",
    "    else:\n",
    "        # this should be the upper case overlap so set overlap to the overlap in upper case. \n",
    "        #remember to put the smaller value first when getting the overlap\n",
    "        overlap=enz['pattern'][enz['revcut']:enz['forcut']]\n",
    "    enz['overlap']=overlap\n",
    "    try:\n",
    "        overlaps[overlap].append(enz)\n",
    "    except:\n",
    "        overlaps[overlap]=[enz]\n",
    "        \n",
    "print('We found '+str(len(overlaps.keys()))+' sticky ends')  \n"
   ]
  },
  {
   "cell_type": "code",
   "execution_count": null,
   "metadata": {
    "collapsed": false
   },
   "outputs": [],
   "source": [
    "#run this block when you can run the block above without an error to make sure it all worked properly. \n",
    "#If it gives an error, try to fix it and then run this block again.\n",
    "bs22003.test9(globals())"
   ]
  },
  {
   "cell_type": "markdown",
   "metadata": {},
   "source": [
    "This is a reminder of the data structure for `enzymes`  \n",
    "![enzymes data structure](day1/enzymes.gif)  \n",
    "\n",
    "And for `overlaps` - the dictionary for each enzyme has been represented as ` enzyme 0 }` but should be thought of as containing all the key:value pairs for that enzyme.\n",
    "![enzymes data structure](day1/overlaps_data.gif)  \n"
   ]
  },
  {
   "cell_type": "code",
   "execution_count": null,
   "metadata": {
    "collapsed": false
   },
   "outputs": [],
   "source": [
    "# Check our enzyme information to see the new data we have calculated\n",
    "enzymes['BamHI']"
   ]
  },
  {
   "cell_type": "code",
   "execution_count": null,
   "metadata": {
    "collapsed": false
   },
   "outputs": [],
   "source": [
    "# find all the enzymes with the same overlap\n",
    "overlaps['ttaa']"
   ]
  },
  {
   "cell_type": "markdown",
   "metadata": {},
   "source": [
    "> #### try: ... except:\n",
    ">\n",
    "> What is that `try:` and `except:` all about? If we try to read a value from a dictionary that doesn't exist \n",
    "> then we will get an error. This will normally cause the program to crash but python has a way of letting\n",
    "> us make use of it. If our dodgy code that might crash is in a `try:` block then if (and only if) \n",
    "> it gives an error, python will run the code in the `except:` block. \n",
    "> So it works like this\n",
    "> ```\n",
    "> try:\n",
    ">     add to the list that is at the key overlap in  the dictionary overlaps\n",
    ">     #If the key doesn't exist, it will give an error and run the except: block\n",
    "> except:\n",
    ">     #We get here if an error happened\n",
    ">     Create a list containing the item and put it in overlaps with the key overlap\n",
    "> ```\n",
    "> Pretty clever and means we don't have to write an if statement to check if the list exists.\n",
    ">\n",
    "> ![Try/Except construct](day1/tryexcept.gif)\n"
   ]
  },
  {
   "cell_type": "markdown",
   "metadata": {},
   "source": [
    "## 3.2 putting it all together\n",
    "We are now ready to start putting it all together. The challenge, now that we have our enzymes, is to clone a gene. \n",
    "\n",
    "We need to:\n",
    "1. load up a vector (plasmid) sequence (in the file `'vector.txt'`)and identify which enzymes cut in a particular location but nowhere else. \n",
    "2. Find all the sticky end cut sites in the multiple cloning site for the plasmid for enzymes which will cut the plasmid only once.\n",
    "2. Then we will try to find suitable enzymes that will make compatible sticky ends taking as much of our gene sequence as possible. They should only cut once (or could cut twice, once at each end but we'll go for once to start with).\n",
    "3. Then we will put it all together to get the sequence we expect so we could check it against an experimental DNA sequence.\n",
    "\n",
    "The plasmid we are going to use is pBluescript II SK (+) with accession number X52328.1. A map is shown below. We can see the multiple cloning site on the right of the picture, spanning from about bp650 to bp 760. \n",
    "![Plasmid map](day1/plasmid.png)"
   ]
  },
  {
   "cell_type": "code",
   "execution_count": null,
   "metadata": {
    "collapsed": false
   },
   "outputs": [],
   "source": [
    "# Part 1. read in the plasmid sequence\n",
    "plasmid=open('plasmid.txt').read() # opens and reads in the entire file.\n",
    "\n",
    "#now get a list of enzymes that cut once only and cut between bp 650 and 750\n",
    "pcutters=[] # a list of enzymes that cut our plasmid in the right place.\n",
    "for  enz in enzymes.values(): \n",
    "    if plasmid.count(enz['pattern']) == 1 and plasmid.find(enz['pattern']) >650 and plasmid.find(enz['pattern']) < 760:\n",
    "        # check that the cut site is between 650 and 750 with the text.find(pattern) command\n",
    "        enz['pcut'] = plasmid.find(enz['pattern'])+enz['forcut'] # catch the actual enzyme cut site in the plasmid\n",
    "        pcutters.append(enz)\n",
    "\n",
    "# make a list of compatible sticky ends\n",
    "stickies = {}\n",
    "for p in pcutters:\n",
    "    try:\n",
    "        stickies[p['overlap']].append(p)\n",
    "    except:\n",
    "        stickies[p['overlap']]=[p]\n",
    "        \n",
    "print(str(len(stickies))+' candidate sticky ends')\n",
    "print([(x,len(stickies[x])) for x in stickies]) # prints the number of cutters with each sticky ends."
   ]
  },
  {
   "cell_type": "code",
   "execution_count": null,
   "metadata": {
    "collapsed": false
   },
   "outputs": [],
   "source": [
    "bs22003.test10(globals())"
   ]
  },
  {
   "cell_type": "code",
   "execution_count": null,
   "metadata": {
    "collapsed": false
   },
   "outputs": [],
   "source": [
    "# We probably don't want blunt cutters as they make ligation difficult so lets remove them from our dictionary\n",
    "del stickies['Blunt']"
   ]
  },
  {
   "cell_type": "markdown",
   "metadata": {},
   "source": [
    "So now we have read our plasmid sequence in. We have a list of enzymes which cut in the right place organised by their sticky ends. The next stage is to see if we can find a suitable sticky end in our gene sequence. We'll read a gene sequence in again from a function which has a unique gene sequence for each of you. "
   ]
  },
  {
   "cell_type": "code",
   "execution_count": null,
   "metadata": {
    "collapsed": false
   },
   "outputs": [],
   "source": [
    "#enter your matriculation number to get your sequence into gene\n",
    "\n",
    "matricnum= 12345  # put your matric number here\n",
    "\n",
    "gene=bs22003.getmysequence(matricnum) # A special bit of code for this workshop\n",
    "print('My gene sequence is '+str(len(gene))+' bp long.')\n",
    "\n",
    "gcutters=[] # enzymes that cut only once\n",
    "\n",
    "#use some previous code to make a list of enzymes that cut only once in our gene sequence.\n",
    "for enz in enzymes.values():\n",
    "    if gene.count(enz['pattern'])==1:\n",
    "        gcutters.append(enz)\n",
    "    #fill me in "
   ]
  },
  {
   "cell_type": "code",
   "execution_count": null,
   "metadata": {
    "collapsed": false
   },
   "outputs": [],
   "source": [
    "bs22003.test11(globals())"
   ]
  },
  {
   "cell_type": "code",
   "execution_count": null,
   "metadata": {
    "collapsed": false
   },
   "outputs": [],
   "source": [
    "# we can check if a key exists in a dictionary with the test 'if key in dictionary:'\n",
    "# lets use this to find out where our first cutting enzyme and last cutting enzyme are.\n",
    "firstcutsite=len(gene)\n",
    "lastcutsite=0\n",
    "firstcutter='' #name of our first cutting enzyme\n",
    "lastcutter='' #name of our last cutting enzyme\n",
    "for gc in gcutters:\n",
    "    if gc['overlap'] in stickies:\n",
    "        # yes, we found a compatible cutter\n",
    "        ecut=gene.find(gc['pattern']) # add something to make this the correct postion - where does the enzyme actually cut?\n",
    "        if ecut < firstcutsite:\n",
    "            firstcutsite=ecut\n",
    "            firstcutter=gc\n",
    "        #add an if statement and block to ckeck if it is the last cutter.\n",
    "        if ecut > lastcutsite:\n",
    "            lastcutsite=ecut\n",
    "            lastcutter=gc\n",
    "print('gene cut between '+str(firstcutsite)+ ' ('+firstcutter['name']+') and '+str(lastcutsite)+' ('+lastcutter['name']+')')"
   ]
  },
  {
   "cell_type": "code",
   "execution_count": null,
   "metadata": {
    "collapsed": false
   },
   "outputs": [],
   "source": [
    "bs22003.test12(globals())"
   ]
  },
  {
   "cell_type": "markdown",
   "metadata": {},
   "source": [
    "We nearly have our cloning strategy. We just have to look up the two sets of enzymes we could use to clone our gene into the plasmid. How can we find which enzymes could be used to create the compatible sticky ends in the plasmid? **Hint:** we have them all sorted by their overlaps in _stickies_, and we have the overlap for the first and last cutter as _firstcutter['overlap']_ and _lastcutter['overlap']_ and we captured the enzyme cut site in the plasmid as _enzyme['pcut']_ "
   ]
  },
  {
   "cell_type": "code",
   "execution_count": null,
   "metadata": {
    "collapsed": false
   },
   "outputs": [],
   "source": [
    "print(stickies[firstcutter['overlap']])\n",
    "print(stickies[lastcutter['overlap']])\n",
    "\n",
    "# there may be more than one enzyme that cuts at that pattern."
   ]
  },
  {
   "cell_type": "code",
   "execution_count": null,
   "metadata": {
    "collapsed": false
   },
   "outputs": [],
   "source": [
    "#Find the sites and the enzymes\n",
    "plasmidcutsite1= stickies[firstcutter['overlap']][0]['pcut']\n",
    "plasmidcutter1= stickies[firstcutter['overlap']][0]['name']\n",
    "plasmidcutsite2= stickies[lastcutter['overlap']][0]['pcut']\n",
    "plasmidcutter2=stickies[lastcutter['overlap']][0]['name']"
   ]
  },
  {
   "cell_type": "code",
   "execution_count": null,
   "metadata": {
    "collapsed": false
   },
   "outputs": [],
   "source": [
    "print('cut the plasmid at '+str(plasmidcutsite1)+' with '+plasmidcutter1+' and at '+str(plasmidcutsite2)+' with '+plasmidcutter2)"
   ]
  },
  {
   "cell_type": "code",
   "execution_count": null,
   "metadata": {
    "collapsed": false
   },
   "outputs": [],
   "source": [
    "bs22003.test13(globals())"
   ]
  },
  {
   "cell_type": "markdown",
   "metadata": {},
   "source": [
    "## Final Challenge\n",
    "The final part is to get the full cloned sequence. Join together the first part of the plasmid sequence to the first cut,\n",
    "the cut out gene sequence and the plasmid sequence after the second cut. If you need to you can use the function `revcomp` defined below to get the reverse complement of your sequence.\n",
    "![Final challenge - the cloned plasmid sequence](day1/final.gif)"
   ]
  },
  {
   "cell_type": "code",
   "execution_count": null,
   "metadata": {
    "collapsed": false
   },
   "outputs": [],
   "source": [
    "def revcomp(seq):\n",
    "    return \"\".join(list(seq.upper())[::-1]).replace('A','t').replace('C','g').replace('G','c').replace('T','a').upper()\n",
    "\n",
    "#example usage\n",
    "myseq='AACGGTTT'\n",
    "print(revcomp(myseq))"
   ]
  },
  {
   "cell_type": "code",
   "execution_count": null,
   "metadata": {
    "collapsed": false
   },
   "outputs": [],
   "source": [
    "clonedsequence="
   ]
  },
  {
   "cell_type": "code",
   "execution_count": null,
   "metadata": {
    "collapsed": false
   },
   "outputs": [],
   "source": [
    "bs22003.test14(globals())\n"
   ]
  },
  {
   "cell_type": "markdown",
   "metadata": {},
   "source": [
    "## Assessment\n",
    "In the assessment you will need to answer some questions, reusing code that you have already written. Here are some example questions, and you can try the practice CMA.\n",
    "\n",
    "1. How many cut sites are there in the original plasmid sequence for BglII?\n",
    "2. If the cloned plasmid is cut with EcoRI, how long is the shortest fragment (remember that the genome is circular so you have to add the first and the last together to get over the break in the sequence.)\n",
    "3. Which enzyme has the longest recognition pattern?\n",
    "4. How many 3' cutters are there in the list?\n",
    "5. How many different recognition sites give the 3' overhang CTAG?\n"
   ]
  },
  {
   "cell_type": "code",
   "execution_count": null,
   "metadata": {
    "collapsed": false
   },
   "outputs": [],
   "source": [
    "plasmid.count(enzymes['BglII']['pattern'])"
   ]
  },
  {
   "cell_type": "code",
   "execution_count": null,
   "metadata": {
    "collapsed": false
   },
   "outputs": [],
   "source": [
    "#get the list of fragments with split.\n",
    "ecori_frags=clonedsequence.split(enzymes['EcoRI']['pattern'])\n",
    "ef_len=[]\n",
    "#get the length of each fragemnt, adding back on the recognition site length (removed with split() )\n",
    "for f in ecoli_frags:\n",
    "    ef_len.append(len(f)+len(enzymes['EcoRI']['pattern']))\n",
    "#now add the first to the last to account for it being circular, removing the extra recognition pattern length\n",
    "ef_len[0] =ef_len[0] + ef_len[-1] - len(enzymes['EcoRI']['pattern'])\n",
    "#sort the lengths and take the shortest (the first one in the list)\n",
    "sorted(ef_len[:-1])[0]\n",
    "\n",
    "#this will miss patterns that span the join between the end and the beginning of the plasmid sequence.\n"
   ]
  },
  {
   "cell_type": "code",
   "execution_count": null,
   "metadata": {
    "collapsed": true
   },
   "outputs": [],
   "source": [
    "longestlen=0\n",
    "longest=''\n",
    "for e in enzymes.values():\n",
    "    if len(e['pattern'])>longestlen:\n",
    "        longestlen=len(e['pattern'])\n",
    "        longest=e['name']\n",
    "print('the longest is '+longest+' at '+str(longestlen)+'bp')"
   ]
  },
  {
   "cell_type": "code",
   "execution_count": null,
   "metadata": {
    "collapsed": true
   },
   "outputs": [],
   "source": [
    "#3' cutters have overlaps as upper case\n",
    "count=0\n",
    "for e in enzymes.values():\n",
    "    if e['overlap']==e['overlap'].upper():\n",
    "        count=count+1\n",
    "print(count)\n",
    "\n",
    "#for 5' use lower()"
   ]
  },
  {
   "cell_type": "code",
   "execution_count": null,
   "metadata": {
    "collapsed": false
   },
   "outputs": [],
   "source": [
    "pats=[]\n",
    "for p in overlaps['CTAG']:\n",
    "    pats.append(p['pattern'])\n",
    "len(set(pats))\n",
    "print(pats)"
   ]
  },
  {
   "cell_type": "code",
   "execution_count": null,
   "metadata": {
    "collapsed": true
   },
   "outputs": [],
   "source": []
  },
  {
   "cell_type": "code",
   "execution_count": null,
   "metadata": {
    "collapsed": true
   },
   "outputs": [],
   "source": []
  }
 ],
 "metadata": {
  "kernelspec": {
   "display_name": "Python 2",
   "language": "python",
   "name": "python2"
  },
  "language_info": {
   "codemirror_mode": {
    "name": "ipython",
    "version": 2
   },
   "file_extension": ".py",
   "mimetype": "text/x-python",
   "name": "python",
   "nbconvert_exporter": "python",
   "pygments_lexer": "ipython2",
   "version": "2.7.11"
  }
 },
 "nbformat": 4,
 "nbformat_minor": 0
}
